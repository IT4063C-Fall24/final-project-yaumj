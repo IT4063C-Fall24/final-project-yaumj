{
 "cells": [
  {
   "attachments": {},
   "cell_type": "markdown",
   "metadata": {},
   "source": [
    "# {Breaking the Glass Firewall: Why Women Leave Tech Careers and Why Those Who Stay Don’t Advance}📝\n",
    "\n",
    "![Banner](./assets/banner.jpeg)"
   ]
  },
  {
   "attachments": {},
   "cell_type": "markdown",
   "metadata": {},
   "source": [
    "## Topic\n",
    "*What problem are you (or your stakeholder) trying to address?*\n",
    "📝 <!-- Answer Below -->\n",
    "\n",
    "This project explores why women in technology are more likely to experience limited career progression and leave the industry at higher rates than their male counterparts. Understanding these differences in career trajectories between men and women is essential for promoting fairness in the workplace, reducing costs associated with turnover, and improving overall organizational success by retaining diverse talent."
   ]
  },
  {
   "attachments": {},
   "cell_type": "markdown",
   "metadata": {},
   "source": [
    "## Project Question\n",
    "*What specific question are you seeking to answer with this project?*\n",
    "*This is not the same as the questions you ask to limit the scope of the project.*\n",
    "📝 <!-- Answer Below -->\n",
    "\n",
    "How do promotion and retention rates for women compare to those for men at similar career stages in the tech industry?"
   ]
  },
  {
   "attachments": {},
   "cell_type": "markdown",
   "metadata": {},
   "source": [
    "## What would an answer look like?\n",
    "*What is your hypothesized answer to your question?*\n",
    "📝 <!-- Answer Below -->\n",
    "\n",
    "**Hypothesis:**  \n",
    "Women in technology experience lower promotion rates and leave the industry at higher rates compared to their male counterparts, even when they have similar qualifications and experience. This disparity is driven by factors that disproportionately affect women, including a higher likelihood of layoffs and gender-based discrimination. As a result, women are less likely to reach senior positions or remain in the tech industry long-term.\n"
   ]
  },
  {
   "attachments": {},
   "cell_type": "markdown",
   "metadata": {},
   "source": [
    "## Data Sources\n",
    "*What 3 data sources have you identified for this project?*\n",
    "*How are you going to relate these datasets?*\n",
    "📝 <!-- Answer Below -->\n",
    "\n",
    "**Data Sources**  \n",
    "*HackerRank 2018 Developer Survey (Kaggle):* Published in 2018, based on 2017 survey responses.  \n",
    "*Pew Research Center 2017 STEM Survey (zip file):* Based on 2017 responses.  \n",
    "*NSF's National Center for Science and Engineering Statistics (Web-Scraped Tables):* Spans several years, ending in 2019, with specific data points from 2017 for comparison.\n",
    "\n",
    "**Relating the Data**  \n",
    "The datasets can be linked based on the shared year (2017) and gender as a common variable. Gender will serve as a primary key or part of a composite key for linking."
   ]
  },
  {
   "attachments": {},
   "cell_type": "markdown",
   "metadata": {},
   "source": [
    "## Approach and Analysis\n",
    "*What is your approach to answering your project question?*\n",
    "*How will you use the identified data to answer your project question?*\n",
    "📝 <!-- Start Discussing the project here; you can add as many code cells as you need -->\n",
    "\n",
    "After joining the data from the various sources, I will generate specific visualizations to confirm or reject my hypothesis.\n",
    "\n",
    "**Planned Visualizations to Support the Hypothesis:**\n",
    "1. *Line Chart: Gender and Age Distribution in Technology*  \n",
    "A line chart will display the number of employees in the technology sector, separated by gender and age groups. The x-axis will represent the age groups (e.g., 20-25, 26-30, etc.), and the y-axis will show the number of employees. This chart will highlight the drop-off point where women begin to leave the industry earlier than men, helping visualize retention issues.\n",
    "\n",
    "2. *100% Stacked Column Chart: Men vs Women in Different Tech Roles*  \n",
    "A 100% stacked column chart will show the proportional representation of men and women across different tech roles (e.g., Junior Developers, Senior Developers, Managers, Executives). Each column will represent a different role, and the stacked columns will show the gender distribution within that role as a percentage. This will provide a clear visual of how underrepresented women are in higher-level positions.\n",
    "\n",
    "3. *Side-by-Side Column Chart: Workplace Concerns for Men vs Women*  \n",
    "A side-by-side column chart will compare the key workplace concerns between men and women, such as issues with career progression, work-life balance, pay disparity, and workplace discrimination. Each concern will have two columns—one representing men and one representing women. This will make it easy to see where concerns overlap and where significant differences exist between the genders."
   ]
  },
  {
   "cell_type": "code",
   "execution_count": 7,
   "metadata": {},
   "outputs": [
    {
     "name": "stdout",
     "output_type": "stream",
     "text": [
      "Skipping, found downloaded files in \"./data\\developer-survey-2018\" (use force=True to force download)\n"
     ]
    },
    {
     "name": "stderr",
     "output_type": "stream",
     "text": [
      "C:\\Users\\Michelle\\AppData\\Local\\Temp\\ipykernel_11152\\2957627125.py:58: FutureWarning: Passing literal html to 'read_html' is deprecated and will be removed in a future version. To read from a literal string, wrap it in a 'StringIO' object.\n",
      "  df = pd.read_html(str(table))[0]\n",
      "C:\\Users\\Michelle\\AppData\\Local\\Temp\\ipykernel_11152\\2957627125.py:58: FutureWarning: Passing literal html to 'read_html' is deprecated and will be removed in a future version. To read from a literal string, wrap it in a 'StringIO' object.\n",
      "  df = pd.read_html(str(table))[0]\n",
      "C:\\Users\\Michelle\\AppData\\Local\\Temp\\ipykernel_11152\\2957627125.py:58: FutureWarning: Passing literal html to 'read_html' is deprecated and will be removed in a future version. To read from a literal string, wrap it in a 'StringIO' object.\n",
      "  df = pd.read_html(str(table))[0]\n",
      "C:\\Users\\Michelle\\AppData\\Local\\Temp\\ipykernel_11152\\2957627125.py:58: FutureWarning: Passing literal html to 'read_html' is deprecated and will be removed in a future version. To read from a literal string, wrap it in a 'StringIO' object.\n",
      "  df = pd.read_html(str(table))[0]\n",
      "C:\\Users\\Michelle\\AppData\\Local\\Temp\\ipykernel_11152\\2957627125.py:58: FutureWarning: Passing literal html to 'read_html' is deprecated and will be removed in a future version. To read from a literal string, wrap it in a 'StringIO' object.\n",
      "  df = pd.read_html(str(table))[0]\n",
      "C:\\Users\\Michelle\\AppData\\Local\\Temp\\ipykernel_11152\\2957627125.py:58: FutureWarning: Passing literal html to 'read_html' is deprecated and will be removed in a future version. To read from a literal string, wrap it in a 'StringIO' object.\n",
      "  df = pd.read_html(str(table))[0]\n",
      "C:\\Users\\Michelle\\AppData\\Local\\Temp\\ipykernel_11152\\2957627125.py:58: FutureWarning: Passing literal html to 'read_html' is deprecated and will be removed in a future version. To read from a literal string, wrap it in a 'StringIO' object.\n",
      "  df = pd.read_html(str(table))[0]\n",
      "C:\\Users\\Michelle\\AppData\\Local\\Temp\\ipykernel_11152\\2957627125.py:58: FutureWarning: Passing literal html to 'read_html' is deprecated and will be removed in a future version. To read from a literal string, wrap it in a 'StringIO' object.\n",
      "  df = pd.read_html(str(table))[0]\n",
      "C:\\Users\\Michelle\\AppData\\Local\\Temp\\ipykernel_11152\\2957627125.py:58: FutureWarning: Passing literal html to 'read_html' is deprecated and will be removed in a future version. To read from a literal string, wrap it in a 'StringIO' object.\n",
      "  df = pd.read_html(str(table))[0]\n"
     ]
    }
   ],
   "source": [
    "# Start your code here\n",
    "import opendatasets as od\n",
    "import pandas as pd\n",
    "import requests\n",
    "import re # for string manipulation\n",
    "import os # to create subfolder for data organization\n",
    "\n",
    "from zipfile import ZipFile\n",
    "from urllib.request import urlretrieve\n",
    "from bs4 import BeautifulSoup\n",
    "\n",
    "\n",
    "# import dataset from Kaggle using URL \n",
    "# kaggle.json file was included in directory for purpose of peer review and grading, even though it is not best practice in a normal production environment\n",
    "dataset_url = \"https://www.kaggle.com/datasets/hackerrank/developer-survey-2018/data\"\n",
    "od.download(dataset_url, data_dir=\"./data\")\n",
    "\n",
    "# import zip file from Pew Research\n",
    "file_handle, _ = urlretrieve(\"https://www.pewresearch.org/wp-content/uploads/sites/20/2019/04/2017-Pew-Research-Center-STEM-survey.zip\")\n",
    "zipfile = ZipFile(file_handle, \"r\")\n",
    "zipfile.extractall(\"./data\")\n",
    "zipfile.close()\n",
    "\n",
    "# scrape HTML file to extract tables\n",
    "os.makedirs(\"data/ncses\", exist_ok=True) # create new subfolder for tables scraped from website\n",
    "\n",
    "url = \"https://ncses.nsf.gov/pubs/nsb20212/participation-of-demographic-groups-in-stem\"\n",
    "page = requests.get(url)\n",
    "soup = BeautifulSoup(page.content, \"html.parser\") # parse the html as a string\n",
    "\n",
    "tables = soup.find_all(\"table\")\n",
    "\n",
    "\n",
    "# loop through each table to extract the title and data\n",
    "for i in range(len(tables)):\n",
    "    table = tables[i]\n",
    "\n",
    "    # Extract the table's title attribute and clean it up for a filename\n",
    "    title = table.get('title')  # Find the title attribute in the table\n",
    "\n",
    "    if title:\n",
    "        title = title.strip()  # Use the title if it exists\n",
    "    else:\n",
    "        title = f'table_{i}'  # Generic name if the table does not have a title\n",
    "    \n",
    "    # Clean title: replace spaces with hyphens and remove special characters except apostrophes\n",
    "    title = title.replace(\"'\", \"\")  # Remove apostrophes\n",
    "    title = re.sub(r\"[^\\w\\s]\", \"-\", title)  # Replace special characters with hyphens\n",
    "    title = title.replace(\" \", \"-\")  # Replace spaces with hyphens\n",
    "\n",
    "    # Truncate the title if it exceeds 50 characters for filename compatibility\n",
    "    if len(title) > 50:\n",
    "        title = title[:50]\n",
    "\n",
    "    file_name = f\"data/ncses/{title}.csv\" # generate an empty csv for each table\n",
    "\n",
    "    # convert each table to a pandas df\n",
    "    df = pd.read_html(str(table))[0]\n",
    "\n",
    "    # save the pandas df as a csv\n",
    "    df.to_csv(file_name, index=False)\n",
    "\n"
   ]
  },
  {
   "attachments": {},
   "cell_type": "markdown",
   "metadata": {},
   "source": [
    "## Resources and References\n",
    "*What resources and references have you used for this project?*\n",
    "📝 <!-- Answer Below -->\n",
    "\n",
    "- https://it4063c.github.io/course-notes/working-with-data/data-sources for methods to import the various data types  \n",
    "- https://www.kaggle.com/datasets/hackerrank/developer-survey-2018/data for the Kaggle dataset \n",
    "- https://www.pewresearch.org/social-trends/2018/01/09/women-and-men-in-stem-often-at-odds-over-workplace-equity/  for the link to the Pew Research Survey\n",
    "- https://ncses.nsf.gov/pubs/nsb20212/participation-of-demographic-groups-in-stem for the html scraped dataset\n",
    "\n"
   ]
  },
  {
   "cell_type": "code",
   "execution_count": 2,
   "metadata": {},
   "outputs": [
    {
     "name": "stdout",
     "output_type": "stream",
     "text": [
      "[NbConvertApp] Converting notebook source.ipynb to python\n",
      "[NbConvertApp] Writing 1271 bytes to source.py\n"
     ]
    }
   ],
   "source": [
    "# ⚠️ Make sure you run this cell at the end of your notebook before every submission!\n",
    "!jupyter nbconvert --to python source.ipynb"
   ]
  }
 ],
 "metadata": {
  "kernelspec": {
   "display_name": "final-project-yaumj-oHpjW_x9",
   "language": "python",
   "name": "python3"
  },
  "language_info": {
   "codemirror_mode": {
    "name": "ipython",
    "version": 3
   },
   "file_extension": ".py",
   "mimetype": "text/x-python",
   "name": "python",
   "nbconvert_exporter": "python",
   "pygments_lexer": "ipython3",
   "version": "3.11.9"
  },
  "orig_nbformat": 4
 },
 "nbformat": 4,
 "nbformat_minor": 2
}
